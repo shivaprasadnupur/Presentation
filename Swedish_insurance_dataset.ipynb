{
 "cells": [
  {
   "cell_type": "markdown",
   "metadata": {
    "collapsed": true
   },
   "source": [
    "\n",
    "# Swedish Auto Insurance Dataset\n",
    "The Swedish Auto Insurance Dataset involves predicting the total payment for all claims in thousands of Swedish Kronor, given the total number of claims.\n",
    "\n",
    "It is a regression problem. It is comprised of 63 observations with 1 input variable and one output variable. The variable names are as follows:\n",
    "\n",
    "1)Number of claims.\n",
    "2)Total payment for all claims in thousands of Swedish Kronor.\n",
    "\n",
    "##  Standard Library Includes\n",
    "### We will be importing the below libraries\n",
    "\n",
    "numpy - NumPy is the fundamental package for scientific computing with Python\n",
    "\n",
    "pandas - Pandas is an open source, BSD-licensed library providing high-performance, easy-to-use data structures and data analysis tools\n",
    "\n",
    "matplotlib - 2D plotting library which produces publication quality figures in a variety of formats and interactive environments across platforms\n",
    "\n",
    "seaborn - Seaborn is a Python visualization library based on matplotlib. It provides a high-level interface for drawing attractive statistical graphics\n",
    "\n",
    "sklearn - Library that implements a range of machine learning, preprocessing, cross-validation and visualization algorithms"
   ]
  },
  {
   "cell_type": "markdown",
   "metadata": {},
   "source": [
    "## Import Libraries"
   ]
  },
  {
   "cell_type": "code",
   "execution_count": 56,
   "metadata": {
    "collapsed": true
   },
   "outputs": [],
   "source": [
    "import numpy as np\n",
    "import pandas as pd\n",
    "import seaborn as sns\n",
    "import matplotlib.pyplot as plt\n",
    "from sklearn import linear_model\n",
    "from sklearn import  metrics\n",
    "from sklearn.cross_validation import cross_val_score\n",
    "from sklearn.cross_validation import train_test_split\n",
    "from sklearn.cross_validation import KFold\n",
    "from sklearn.linear_model import LinearRegression\n",
    "from pandas import read_excel\n",
    "from pandas.plotting import scatter_matrix\n",
    "from pickle import dump\n",
    "from pickle import load\n",
    "from pandas.plotting import scatter_matrix\n",
    "from sklearn.metrics import mean_squared_error\n"
   ]
  },
  {
   "cell_type": "markdown",
   "metadata": {},
   "source": [
    "## Load the Dataset"
   ]
  },
  {
   "cell_type": "code",
   "execution_count": 6,
   "metadata": {
    "collapsed": true
   },
   "outputs": [],
   "source": [
    "filename =('C:\\Users\\SHIVAPRASAD\\Desktop\\datasets\\swedish_insurance.xlsx')\n",
    "names = ['Number of claims ', 'Total payment for all claims']\n",
    "dataframe = read_excel(filename, names=names)"
   ]
  },
  {
   "cell_type": "markdown",
   "metadata": {},
   "source": [
    "## Sumarizing the Dataset"
   ]
  },
  {
   "cell_type": "code",
   "execution_count": 6,
   "metadata": {},
   "outputs": [
    {
     "name": "stdout",
     "output_type": "stream",
     "text": [
      "(62, 2)\n"
     ]
    }
   ],
   "source": [
    "#Shape\n",
    "print dataframe.shape  # Display the no.of rows and no.r of columns in the dataset"
   ]
  },
  {
   "cell_type": "code",
   "execution_count": 7,
   "metadata": {},
   "outputs": [
    {
     "name": "stdout",
     "output_type": "stream",
     "text": [
      "   Number of claims   Total payment for all claims\n",
      "0                 19                          46.2\n",
      "1                 13                          15.7\n",
      "2                124                         422.2\n",
      "3                 40                         119.4\n",
      "4                 57                         170.9\n"
     ]
    }
   ],
   "source": [
    "#Head\n",
    "print dataframe.head() # Display the first 5 values of the dataset"
   ]
  },
  {
   "cell_type": "code",
   "execution_count": 8,
   "metadata": {},
   "outputs": [
    {
     "name": "stdout",
     "output_type": "stream",
     "text": [
      "    Number of claims   Total payment for all claims\n",
      "57                  9                          87.4\n",
      "58                 31                         209.8\n",
      "59                 14                          95.5\n",
      "60                 53                         244.6\n",
      "61                 26                         187.5\n"
     ]
    }
   ],
   "source": [
    "#Tail\n",
    "print dataframe.tail() # Display the last 5 values of the dataset"
   ]
  },
  {
   "cell_type": "code",
   "execution_count": 9,
   "metadata": {},
   "outputs": [
    {
     "name": "stdout",
     "output_type": "stream",
     "text": [
      "       Number of claims   Total payment for all claims\n",
      "count          62.000000                     62.000000\n",
      "mean           21.532258                     93.440323\n",
      "std            20.823787                     79.424284\n",
      "min             0.000000                      0.000000\n",
      "25%             7.250000                     38.475000\n",
      "50%            14.000000                     71.300000\n",
      "75%            28.500000                    137.150000\n",
      "max           124.000000                    422.200000\n"
     ]
    }
   ],
   "source": [
    "#Statistical summary\n",
    "print dataframe.describe() #Display the statistical summary of the dataset"
   ]
  },
  {
   "cell_type": "code",
   "execution_count": 15,
   "metadata": {},
   "outputs": [
    {
     "name": "stdout",
     "output_type": "stream",
     "text": [
      "Number of claims                  int64\n",
      "Total payment for all claims    float64\n",
      "dtype: object\n"
     ]
    }
   ],
   "source": [
    "#data types\n",
    "print dataframe.dtypes # Dispay the data types float,int,object likewise"
   ]
  },
  {
   "cell_type": "markdown",
   "metadata": {},
   "source": [
    "## Visualizing the dataset"
   ]
  },
  {
   "cell_type": "code",
   "execution_count": 27,
   "metadata": {},
   "outputs": [
    {
     "data": {
      "image/png": "[encoded data removed]",
      "text/plain": [
       "<matplotlib.figure.Figure at 0xe715d68>"
      ]
     },
     "metadata": {},
     "output_type": "display_data"
    }
   ],
   "source": [
    "#Box and the whisker plots(for visualizing the minimum and maximum values)\n",
    "dataframe.plot(kind='box', subplots=True, layout=(1,2), sharex=False, sharey=False)\n",
    "plt.show()"
   ]
  },
  {
   "cell_type": "code",
   "execution_count": 9,
   "metadata": {},
   "outputs": [
    {
     "data": {
      "image/png": "[encoded data removed]",
      "text/plain": [
       "<matplotlib.figure.Figure at 0xe8ad438>"
      ]
     },
     "metadata": {},
     "output_type": "display_data"
    }
   ],
   "source": [
    "# Scatterplot Matrix (This plot will help to spot structured relationship between input variables)\n",
    "scatter_matrix(dataframe)\n",
    "plt.show()"
   ]
  },
  {
   "cell_type": "markdown",
   "metadata": {},
   "source": [
    "## Evaluating some Algorithm\n",
    "Splitting the dataset in Train and Test Sets.\n",
    "\n",
    "Below Scatter plot will show the distribution of training and testing samples."
   ]
  },
  {
   "cell_type": "code",
   "execution_count": 7,
   "metadata": {
    "collapsed": true
   },
   "outputs": [],
   "source": [
    "# Split-out validation dataset\n",
    "array = dataframe.values\n",
    "X = array[:,0:1]\n",
    "Y = array[:,1]\n",
    "validation_size = 0.20\n",
    "seed = 7\n",
    "X_train, X_validation, Y_train, Y_validation = train_test_split(X, Y, test_size=validation_size, random_state=seed)\n"
   ]
  },
  {
   "cell_type": "code",
   "execution_count": 24,
   "metadata": {},
   "outputs": [
    {
     "data": {
      "image/png": "[encoded data removed]",
      "text/plain": [
       "<matplotlib.figure.Figure at 0x10582208>"
      ]
     },
     "metadata": {},
     "output_type": "display_data"
    }
   ],
   "source": [
    "#scatter plot matrix showing the train and test sample split\n",
    "X_train, X_validation, Y_train, Y_validation = train_test_split(X,Y,test_size=0.2,random_state=7)\n",
    "fig, ax = plt.subplots()\n",
    "ax.set_xlabel('X')\n",
    "ax.set_ylabel('Y')\n",
    "ax.set_title('Scatter plot showing train and test sample split')\n",
    "ax.scatter(X_train,Y_train,marker='*',label='Train')\n",
    "ax.scatter(X_validation,Y_validation,c='red',label='Test')\n",
    "plt.show()"
   ]
  },
  {
   "cell_type": "code",
   "execution_count": 52,
   "metadata": {},
   "outputs": [
    {
     "name": "stdout",
     "output_type": "stream",
     "text": [
      "0.877601538283\n",
      "Accuracy: 87.76%\n"
     ]
    }
   ],
   "source": [
    "#Evaluation of the Liner regression algorithm for thr accuracy using train and test\n",
    "\n",
    "array = dataframe.values\n",
    "X = array[:,0:1]\n",
    "#For the input features, we can select all rows and all columns except the last one by specifying ‘:’ for in the rows index, \n",
    "#and :-1 in the columns index.\n",
    "Y = array[:,1]\n",
    "#For the output column, we can select all rows again using ‘:’ and index just the last column by specifying the -1 index.\n",
    "test_size = 0.25\n",
    "seed = 7\n",
    "X_train, X_test, Y_train, Y_test = train_test_split(X, Y, test_size=test_size, random_state=seed)\n",
    "model = LinearRegression()\n",
    "model.fit(X_train, Y_train) # Fit a linear model.\n",
    "result = model.score(X_test, Y_test) \n",
    "#Estimators have a score method providing a default evaluation criterion for the problem they are designed to solve.\n",
    "\n",
    "print(\"Accuracy: %.2f%%\") % (result*100.0)  # %.2f means to print the only 2 decimal values"
   ]
  },
  {
   "cell_type": "markdown",
   "metadata": {},
   "source": [
    "## Make Predictions"
   ]
  },
  {
   "cell_type": "code",
   "execution_count": 60,
   "metadata": {},
   "outputs": [
    {
     "name": "stdout",
     "output_type": "stream",
     "text": [
      "RMSE for Testing set : 35.282655\n"
     ]
    }
   ],
   "source": [
    "#Predictions for the RMSE value\n",
    "regr_fin = linear_model.LinearRegression()\n",
    "regr_fin.fit(X_train,Y_train)  # Fit a linear model.\n",
    "Y_pred = regr_fin.predict(X_test) # predict X_test value from linear regression model \n",
    "\n",
    "#rmse = np.sqrt(metrics.mean_squared_error(Y_pred,Y_test)) use any one below line or this line for getting rmse\n",
    "\n",
    "rmse = np.sqrt(mean_squared_error(Y_test, Y_pred))\n",
    "print 'RMSE for Testing set : %f' % (rmse)\n",
    "\n",
    "#print 'RMSE for Testing set : %f' % (rms)"
   ]
  },
  {
   "cell_type": "markdown",
   "metadata": {},
   "source": [
    "## Finalizing the model"
   ]
  },
  {
   "cell_type": "code",
   "execution_count": 61,
   "metadata": {},
   "outputs": [
    {
     "name": "stdout",
     "output_type": "stream",
     "text": [
      "RMSE for Testing set : 35.282655\n"
     ]
    }
   ],
   "source": [
    "#finalizing the model from pickle\n",
    "array = dataframe.values\n",
    "X = array[:,0:1]\n",
    "Y = array[:,1]\n",
    "X_train, X_test, Y_train, Y_test = train_test_split(X, Y, test_size=0.33, random_state=7)\n",
    "\n",
    "# Fit the model on 33%\n",
    "model = LinearRegression()\n",
    "model.fit(X_train, Y_train) #fit into the linear regression model\n",
    "\n",
    "# save the model to disk\n",
    "filename = 'finalized_model.sav'\n",
    "dump(model, open(filename, 'wb')) #syntax for wrinting into the disk\n",
    "\n",
    "# some time later...\n",
    "\n",
    "# load the model from disk\n",
    "regr_fin = linear_model.LinearRegression()\n",
    "regr_fin.fit(X_train,Y_train) # Fit a linear model.\n",
    "Y_pred = regr_fin.predict(X_test)\n",
    "rmse = np.sqrt(mean_squared_error(Y_pred,Y_test)) \n",
    "#from numpy importing np to calculate sqrt,& from sklearn we imported the mean_squared_error\n",
    "print 'RMSE for Testing set : %f' % (rmse)"
   ]
  },
  {
   "cell_type": "code",
   "execution_count": null,
   "metadata": {
    "collapsed": true
   },
   "outputs": [],
   "source": []
  }
 ],
 "metadata": {
  "kernelspec": {
   "display_name": "Python 2",
   "language": "python",
   "name": "python2"
  },
  "language_info": {
   "codemirror_mode": {
    "name": "ipython",
    "version": 2
   },
   "file_extension": ".py",
   "mimetype": "text/x-python",
   "name": "python",
   "nbconvert_exporter": "python",
   "pygments_lexer": "ipython2",
   "version": "2.7.13"
  }
 },
 "nbformat": 4,
 "nbformat_minor": 2
}
